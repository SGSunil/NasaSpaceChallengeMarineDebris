{
  "nbformat": 4,
  "nbformat_minor": 0,
  "metadata": {
    "kernelspec": {
      "display_name": "Python 3",
      "language": "python",
      "name": "python3"
    },
    "language_info": {
      "codemirror_mode": {
        "name": "ipython",
        "version": 3
      },
      "file_extension": ".py",
      "mimetype": "text/x-python",
      "name": "python",
      "nbconvert_exporter": "python",
      "pygments_lexer": "ipython3",
      "version": "3.7.0"
    },
    "colab": {
      "name": "Tutorial.ipynb",
      "provenance": [],
      "include_colab_link": true
    }
  },
  "cells": [
    {
      "cell_type": "markdown",
      "metadata": {
        "id": "view-in-github",
        "colab_type": "text"
      },
      "source": [
        "<a href=\"https://colab.research.google.com/github/SGSunil/NasaSpaceChallengeMarineDebris/blob/main/Notebooks/Tutorial.ipynb\" target=\"_parent\"><img src=\"https://colab.research.google.com/assets/colab-badge.svg\" alt=\"Open In Colab\"/></a>"
      ]
    },
    {
      "cell_type": "code",
      "metadata": {
        "id": "jPGwNUwKS0p8"
      },
      "source": [
        "#import required libraries\n",
        "import rasterio\n",
        "from rasterio import plot\n",
        "import matplotlib.pyplot as plt\n",
        "%matplotlib inline"
      ],
      "execution_count": 3,
      "outputs": []
    },
    {
      "cell_type": "code",
      "metadata": {
        "colab": {
          "base_uri": "https://localhost:8080/"
        },
        "id": "OXeOjzDDYdcB",
        "outputId": "554e5ab3-d3f7-40ae-836f-6ed1dee0a340"
      },
      "source": [
        "!pip install rasterio"
      ],
      "execution_count": 2,
      "outputs": [
        {
          "output_type": "stream",
          "name": "stdout",
          "text": [
            "Collecting rasterio\n",
            "  Downloading rasterio-1.2.9-cp37-cp37m-manylinux1_x86_64.whl (19.3 MB)\n",
            "\u001b[K     |████████████████████████████████| 19.3 MB 48.5 MB/s \n",
            "\u001b[?25hCollecting cligj>=0.5\n",
            "  Downloading cligj-0.7.2-py3-none-any.whl (7.1 kB)\n",
            "Requirement already satisfied: click>=4.0 in /usr/local/lib/python3.7/dist-packages (from rasterio) (7.1.2)\n",
            "Collecting click-plugins\n",
            "  Downloading click_plugins-1.1.1-py2.py3-none-any.whl (7.5 kB)\n",
            "Requirement already satisfied: numpy in /usr/local/lib/python3.7/dist-packages (from rasterio) (1.19.5)\n",
            "Collecting snuggs>=1.4.1\n",
            "  Downloading snuggs-1.4.7-py3-none-any.whl (5.4 kB)\n",
            "Requirement already satisfied: certifi in /usr/local/lib/python3.7/dist-packages (from rasterio) (2021.5.30)\n",
            "Requirement already satisfied: attrs in /usr/local/lib/python3.7/dist-packages (from rasterio) (21.2.0)\n",
            "Collecting affine\n",
            "  Downloading affine-2.3.0-py2.py3-none-any.whl (15 kB)\n",
            "Requirement already satisfied: setuptools in /usr/local/lib/python3.7/dist-packages (from rasterio) (57.4.0)\n",
            "Requirement already satisfied: pyparsing>=2.1.6 in /usr/local/lib/python3.7/dist-packages (from snuggs>=1.4.1->rasterio) (2.4.7)\n",
            "Installing collected packages: snuggs, cligj, click-plugins, affine, rasterio\n",
            "Successfully installed affine-2.3.0 click-plugins-1.1.1 cligj-0.7.2 rasterio-1.2.9 snuggs-1.4.7\n"
          ]
        }
      ]
    },
    {
      "cell_type": "code",
      "metadata": {
        "id": "qh7bYrG5S0qA"
      },
      "source": [
        "#import bands as separate 1 band raster\n",
        "imagePath = '../Sentinel2/GRANULE/L1C_T11SKB_A007675_20180825T184430/IMG_DATA/'\n",
        "band2 = rasterio.open(imagePath+'T11SKB_20180825T183909_B02.jp2', driver='JP2OpenJPEG') #blue\n",
        "band3 = rasterio.open(imagePath+'T11SKB_20180825T183909_B03.jp2', driver='JP2OpenJPEG') #green\n",
        "band4 = rasterio.open(imagePath+'T11SKB_20180825T183909_B04.jp2', driver='JP2OpenJPEG') #red\n",
        "band8 = rasterio.open(imagePath+'T11SKB_20180825T183909_B08.jp2', driver='JP2OpenJPEG') #nir"
      ],
      "execution_count": null,
      "outputs": []
    },
    {
      "cell_type": "code",
      "metadata": {
        "id": "I7ZY83FIS0qC"
      },
      "source": [
        "#number of raster bands\n",
        "band4.count"
      ],
      "execution_count": null,
      "outputs": []
    },
    {
      "cell_type": "code",
      "metadata": {
        "id": "GEFpAeZuS0qE"
      },
      "source": [
        "#number of raster columns\n",
        "band4.width"
      ],
      "execution_count": null,
      "outputs": []
    },
    {
      "cell_type": "code",
      "metadata": {
        "id": "jZdApScJS0qG"
      },
      "source": [
        "#number of raster rows\n",
        "band4.height"
      ],
      "execution_count": null,
      "outputs": []
    },
    {
      "cell_type": "code",
      "metadata": {
        "id": "jhkdmSnyS0qH"
      },
      "source": [
        "#plot band \n",
        "plot.show(band4)"
      ],
      "execution_count": null,
      "outputs": []
    },
    {
      "cell_type": "code",
      "metadata": {
        "id": "s4tWzNPwS0qJ"
      },
      "source": [
        "#type of raster byte\n",
        "band4.dtypes[0]"
      ],
      "execution_count": null,
      "outputs": []
    },
    {
      "cell_type": "code",
      "metadata": {
        "id": "8LqvN9oQS0qL"
      },
      "source": [
        "#raster sytem of reference\n",
        "band4.crs"
      ],
      "execution_count": null,
      "outputs": []
    },
    {
      "cell_type": "code",
      "metadata": {
        "id": "jj8ZodN8S0qO"
      },
      "source": [
        "#raster transform parameters\n",
        "band4.transform"
      ],
      "execution_count": null,
      "outputs": []
    },
    {
      "cell_type": "code",
      "metadata": {
        "id": "g4Uyxz8US0qR"
      },
      "source": [
        "#raster values as matrix array\n",
        "band4.read(1)"
      ],
      "execution_count": null,
      "outputs": []
    },
    {
      "cell_type": "code",
      "metadata": {
        "id": "UpO1_9oAS0qT"
      },
      "source": [
        "#multiple band representation\n",
        "fig, (ax1, ax2, ax3) = plt.subplots(1, 3, figsize=(12, 4))\n",
        "plot.show(band2, ax=ax1, cmap='Blues')\n",
        "plot.show(band3, ax=ax2, cmap='Greens')\n",
        "plot.show(band4, ax=ax3, cmap='Reds')\n",
        "fig.tight_layout()"
      ],
      "execution_count": null,
      "outputs": []
    },
    {
      "cell_type": "code",
      "metadata": {
        "id": "bg4JR1B3S0qV"
      },
      "source": [
        "#export true color image\n",
        "trueColor = rasterio.open('../Output/SentinelTrueColor2.tiff','w',driver='Gtiff',\n",
        "                         width=band4.width, height=band4.height,\n",
        "                         count=3,\n",
        "                         crs=band4.crs,\n",
        "                         transform=band4.transform,\n",
        "                         dtype=band4.dtypes[0]\n",
        "                         )\n",
        "trueColor.write(band2.read(1),3) #blue\n",
        "trueColor.write(band3.read(1),2) #green\n",
        "trueColor.write(band4.read(1),1) #red\n",
        "trueColor.close()"
      ],
      "execution_count": null,
      "outputs": []
    },
    {
      "cell_type": "code",
      "metadata": {
        "id": "nDJnr_ffS0qW"
      },
      "source": [
        "src = rasterio.open(r\"../Output/SentinelTrueColor2.tiff\", count=3)\n",
        "plot.show(src)"
      ],
      "execution_count": null,
      "outputs": []
    },
    {
      "cell_type": "code",
      "metadata": {
        "id": "S_NI3bLtS0qX"
      },
      "source": [
        "#export false color image\n",
        "falseColor = rasterio.open('../Output/SentinelFalseColor.tiff', 'w', driver='Gtiff',\n",
        "                          width=band2.width, height=band2.height,\n",
        "                          count=3,\n",
        "                          crs=band2.crs,\n",
        "                          transform=band2.transform,\n",
        "                          dtype='uint16'                   \n",
        "                         )\n",
        "falseColor.write(band3.read(1),3) #Blue\n",
        "falseColor.write(band4.read(1),2) #Green\n",
        "falseColor.write(band8.read(1),1) #Red\n",
        "falseColor.close()"
      ],
      "execution_count": null,
      "outputs": []
    },
    {
      "cell_type": "code",
      "metadata": {
        "id": "2fidP_dnS0qY"
      },
      "source": [
        "#generate histogram\n",
        "trueColor = rasterio.open('../Output/SentinelTrueColor2.tiff')\n",
        "plot.show_hist(trueColor, bins=50, lw=0.0, stacked=False, alpha=0.3, histtype='stepfilled', title=\"Histogram\")"
      ],
      "execution_count": null,
      "outputs": []
    }
  ]
}